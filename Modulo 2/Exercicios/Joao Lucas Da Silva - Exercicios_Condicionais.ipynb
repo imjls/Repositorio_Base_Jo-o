{
 "cells": [
  {
   "cell_type": "markdown",
   "id": "633160a3",
   "metadata": {},
   "source": [
    "### 📝Lista de Exercícios: Condicionais IF/ELSE"
   ]
  },
  {
   "cell_type": "markdown",
   "id": "605d2a7e",
   "metadata": {},
   "source": [
    "Exercício 1 - Maioridade 🔞\n",
    "\n",
    "Crie um programa que pergunta a idade do usuário e diz se ele é maior ou menor de idade."
   ]
  },
  {
   "cell_type": "code",
   "execution_count": 2,
   "id": "93ea230f",
   "metadata": {},
   "outputs": [
    {
     "name": "stdout",
     "output_type": "stream",
     "text": [
      "Você é maior de idade\n"
     ]
    }
   ],
   "source": [
    "idade = int(input(\"Quantos anos você tem? \"))\n",
    "\n",
    "if idade >= 18:\n",
    "    print(\"Você é maior de idade\")\n",
    "else:\n",
    "    print('Você é menor de idade')"
   ]
  },
  {
   "cell_type": "markdown",
   "id": "6e9528f5",
   "metadata": {},
   "source": [
    "Exercício 2 - Aprovação na Prova 🧠\n",
    "\n",
    "Faça um programa que pergunte a nota de um aluno (0 a 10) e diz se ele foi aprovado(nota >= 5) ou reprovado (nota <5)."
   ]
  },
  {
   "cell_type": "code",
   "execution_count": 6,
   "id": "4a9f8f8b",
   "metadata": {},
   "outputs": [
    {
     "name": "stdout",
     "output_type": "stream",
     "text": [
      "Aprovado\n"
     ]
    }
   ],
   "source": [
    "nota = float(input(\"Informe a sua nota de (0 a 10)\"))\n",
    "\n",
    "if nota >= 5:\n",
    "    print('Aprovado')\n",
    "else:\n",
    "    print('reprovado')"
   ]
  },
  {
   "cell_type": "markdown",
   "id": "9f8e9b92",
   "metadata": {},
   "source": [
    "Exercicio 3 - CNH 🚘🚙\n",
    "\n",
    " 1º - Peça ao usuário que digite a idade dele.\n",
    "\n",
    " 2º - Peça pra ele dizer se foi aprovado ou reprovado no curso de cnh.\n",
    "\n",
    " 3º - Use if e else para verificar se ele tem 18 anos ou mais e se foi aprovado.\n",
    "\n",
    " 4º - Se as condições do passo 3 estiverem certas, print(\"pode dirigir\").\n",
    " \n",
    " 5º - Se não print(\"vai andar a pé\")"
   ]
  },
  {
   "cell_type": "code",
   "execution_count": 13,
   "id": "bee9f043",
   "metadata": {},
   "outputs": [
    {
     "name": "stdout",
     "output_type": "stream",
     "text": [
      "Oque você está fazendo aqui?\n",
      "Você pode dirigir\n"
     ]
    }
   ],
   "source": [
    "idade = int(input(\"Quantos anos você tem? \"))\n",
    "cnh = input(\"Você foi aprovado ou reprovado no curso de cnh?\")\n",
    "\n",
    "if idade >= 18:\n",
    "    print(\"Você pode tirar a CNH\")\n",
    "else:\n",
    "    print('Oque você está fazendo aqui?')\n",
    "\n",
    "if cnh == 'Sim':\n",
    "    print(\"Você pode dirigir\")\n",
    "elif cnh == \"Não\":\n",
    "    print(\"Vai andar a pé\")\n"
   ]
  },
  {
   "cell_type": "markdown",
   "id": "e9c60d12",
   "metadata": {},
   "source": [
    "Exercício 4 - Calculadora de Desconto. 💵 🤑\n",
    "\n",
    "Uma loja dá 10% de desconto para compras acima de R$ 100,00. Faça um programa que:\n",
    "\n",
    "1º - Pergunta o valor da compra.\n",
    "\n",
    "2º - Calcula o valor final com desconto (se aplicável).\n",
    "\n",
    "3º - Mostra o valor a pagar."
   ]
  },
  {
   "cell_type": "code",
   "execution_count": 19,
   "id": "5edc8855",
   "metadata": {},
   "outputs": [
    {
     "name": "stdout",
     "output_type": "stream",
     "text": [
      "A sua compra foi no valor de 10233.00, porém você teve 10% de desconto!!! ou seja o valor a pagar é 9209.70\n"
     ]
    }
   ],
   "source": [
    "valor_compra = float(input(\"Qual o valor da sua compra\"))\n",
    "\n",
    "if valor_compra >100:\n",
    "    desconto = valor_compra * 0.10\n",
    "    total_compra = valor_compra - desconto\n",
    "    print(f\"A sua compra foi no valor de {valor_compra:.2f}, porém você teve 10% de desconto!!! ou seja o valor a pagar é {total_compra:.2f}\")\n",
    "else:\n",
    "    print(f\"Sua compra ficou no total de {valor_compra:.2f}\")\n"
   ]
  },
  {
   "cell_type": "markdown",
   "id": "ec96b43c",
   "metadata": {},
   "source": [
    "Exercício 5 - Classificação de Notas 🧑‍🎓\n",
    "\n",
    "Pergunte a nota de um aluno e dependendo da nota que ele informar, o classifique de acordo com as regras abaixo:\n",
    "\n",
    "Classifique a nota do aluno:\n",
    "\n",
    "- 9 até 10: \"Excelente\"\n",
    "\n",
    "- 7 até 8.9: \"Bom\"\n",
    "\n",
    "- 5 até 6.9: \"Regular\"\n",
    "\n",
    "- 0 até 4.9: \"Reprovado\"\n",
    "\n",
    "mostre para o aluno a classificação dele através de um print, exemplo print(\"Excelente\")."
   ]
  },
  {
   "cell_type": "code",
   "execution_count": 24,
   "id": "465c6812",
   "metadata": {},
   "outputs": [
    {
     "name": "stdout",
     "output_type": "stream",
     "text": [
      "Excelente!\n"
     ]
    }
   ],
   "source": [
    "nota = float(input(\"Qual a sua nota ? :\"))\n",
    "\n",
    "if nota <= 4.9 :\n",
    "    print(\"Reprovado\")\n",
    "elif nota <=6.9:\n",
    "    print(\"Regular\")\n",
    "elif nota <=8.9:\n",
    "    print(\"Bom\")\n",
    "elif nota >=9:\n",
    "    print(\"Excelente!\")\n"
   ]
  },
  {
   "cell_type": "markdown",
   "id": "251b0fa7",
   "metadata": {},
   "source": [
    "Exercício 6 - Acesso ao Sistema 🔑\n",
    "\n",
    "Crie um login simples:\n",
    "\n",
    "- usuario_correto = \"admin\"\n",
    "\n",
    "- senha_correta = \"1234\"\n",
    "\n",
    "**Peça para o usuário digitar primeiro o login e depois a senha, caso login e senha estejam corretos programa deve mostrar \"Acesso permitido\" se não \"Acesso negado\"**\n"
   ]
  },
  {
   "cell_type": "code",
   "execution_count": 8,
   "id": "7fcf16db",
   "metadata": {},
   "outputs": [
    {
     "name": "stdout",
     "output_type": "stream",
     "text": [
      "Acesso Permitido\n"
     ]
    }
   ],
   "source": [
    "usuario_correto = \"admin\"\n",
    "senha_correta = \"1234\"\n",
    "\n",
    "usuario = input (\"Digite seu usuario\")\n",
    "senha = input (\"Digite sua senha\")\n",
    "\n",
    "\n",
    "if usuario == usuario_correto and senha == senha_correta:\n",
    "    print(\"Acesso Permitido\")\n",
    "else:\n",
    "    print(\"Acesso Negado\")"
   ]
  },
  {
   "cell_type": "markdown",
   "id": "46c27406",
   "metadata": {},
   "source": [
    "Exercício 7 - Maior Número 📉\n",
    "\n",
    "Peça 3 números e mostre qual é o maior deles."
   ]
  },
  {
   "cell_type": "code",
   "execution_count": 9,
   "id": "4ad6db80",
   "metadata": {},
   "outputs": [
    {
     "name": "stdout",
     "output_type": "stream",
     "text": [
      "o maior número é 3.0\n"
     ]
    }
   ],
   "source": [
    "n1 = float(input(\"Digite o seu Número\"))\n",
    "n2 = float(input(\"Digite o seu Número\"))\n",
    "n3 = float(input(\"Digite o seu Número\"))\n",
    "\n",
    "if n1 >= n2 and n1 >= n2:\n",
    "    maior = n1\n",
    "elif n2 >= n1 and n2 >= n3:\n",
    "    maior = n2\n",
    "else:\n",
    "    maior = n3\n",
    "print(f\"o maior número é {maior}\")"
   ]
  },
  {
   "cell_type": "markdown",
   "id": "916439ff",
   "metadata": {},
   "source": [
    "\n"
   ]
  },
  {
   "cell_type": "markdown",
   "id": "984fe0fe",
   "metadata": {},
   "source": [
    "Exercício 8 - Dia da Semana\n",
    "Peça um número de 1 a 7 e mostre o dia da semana correspondente: 📅\n",
    "\n",
    "- 1: Domingo\n",
    "\n",
    "- 2: Segunda\n",
    "\n",
    "- ... até 7: Sábado"
   ]
  },
  {
   "cell_type": "code",
   "execution_count": 11,
   "id": "f34c6fbf",
   "metadata": {},
   "outputs": [
    {
     "name": "stdout",
     "output_type": "stream",
     "text": [
      "Quinta-Feira\n"
     ]
    }
   ],
   "source": [
    "numero = int(input(\"Digite um número de 1 até 7\"))\n",
    "\n",
    "if numero == 1:\n",
    "    print(\"Domingo\")\n",
    "elif numero == 2:\n",
    "    print(\"Segunda-Feira\")\n",
    "elif numero == 3:\n",
    "    print(\"Terça-Feira\")\n",
    "elif numero == 4:\n",
    "    print(\"Quarta-Feira\")\n",
    "elif numero == 5:\n",
    "    print(\"Quinta-Feira\")\n",
    "elif numero == 6:\n",
    "    print(\"Sexta-Feira\")\n",
    "elif numero == 7:\n",
    "    print(\"Sabado\")\n",
    "else:\n",
    "    print(\"Número Invalido! Digite um Número de 1 a 7\")"
   ]
  },
  {
   "cell_type": "markdown",
   "id": "f1f760b7",
   "metadata": {},
   "source": [
    "Exercício 9 - Calculadora Simples 📏📐\n",
    "\n",
    "- Faça uma calculadora que:\n",
    "\n",
    "- Pede dois números\n",
    "\n",
    "- Pede a operação (+, -, *, /)\n",
    "\n",
    "- Dependendo da operação mostre o resultado.\n",
    "\n"
   ]
  },
  {
   "cell_type": "code",
   "execution_count": 12,
   "id": "95c6ce03",
   "metadata": {},
   "outputs": [
    {
     "name": "stdout",
     "output_type": "stream",
     "text": [
      "resultado: 2.0\n"
     ]
    }
   ],
   "source": [
    "n1 = float(input(\"Digite o primeiro número: \"))\n",
    "n2 = float(input(\"Digite o segundo número:  \"))\n",
    "\n",
    "operacao = input(\"Digite a operação (+, -, *, /): \")\n",
    "\n",
    "if operacao == \"+\":\n",
    "    resultado = n1 + n2\n",
    "    print(\"Resultado:\", resultado)\n",
    "elif  operacao == \"-\":\n",
    "    resultado = n1 - n2\n",
    "    print(\"Resultado:\", resultado)\n",
    "elif operacao == \"*\":\n",
    "    resultado = n1 - n2\n",
    "    print(\"Resultado:\", resultado)\n",
    "elif operacao == \"/\":\n",
    "    if n2 != 0:\n",
    "        resultado = n1 / n2\n",
    "        print(\"resultado:\", resultado)\n",
    "        \n",
    "    else:\n",
    "        print(\"Erro! Divisao por zero nao é permitido.\")\n",
    "else:\n",
    "    print(\"Operação inválida!\")\n"
   ]
  },
  {
   "cell_type": "markdown",
   "id": "f39f6b73",
   "metadata": {},
   "source": [
    "Exercício 10 - Sistema de Multas 🚙🚘🧾\n",
    "\n",
    "\n",
    "- Velocidade máxima: 80 km/h 🚫\n",
    "\n",
    "- Até 80: \"Sem multa\"\n",
    "\n",
    "- 81-100: \"Multa leve\"\n",
    "\n",
    "- Acima de 100: \"Multa grave\""
   ]
  },
  {
   "cell_type": "code",
   "execution_count": 16,
   "id": "20fdc977",
   "metadata": {},
   "outputs": [
    {
     "name": "stdout",
     "output_type": "stream",
     "text": [
      "Multa Leve\n"
     ]
    }
   ],
   "source": [
    "velocidade = int(input(\"Digite a velocidade do carro:\"))\n",
    "\n",
    "if velocidade  <= 80:\n",
    "    print(\"Sem Multa\")\n",
    "elif velocidade <= 100:\n",
    "    print(\"Multa Leve\")\n",
    "else:\n",
    "    print(\"Multa Grave!\")\n",
    "\n"
   ]
  }
 ],
 "metadata": {
  "kernelspec": {
   "display_name": "Python 3",
   "language": "python",
   "name": "python3"
  },
  "language_info": {
   "codemirror_mode": {
    "name": "ipython",
    "version": 3
   },
   "file_extension": ".py",
   "mimetype": "text/x-python",
   "name": "python",
   "nbconvert_exporter": "python",
   "pygments_lexer": "ipython3",
   "version": "3.13.2"
  }
 },
 "nbformat": 4,
 "nbformat_minor": 5
}
