{
 "cells": [
  {
   "cell_type": "markdown",
   "id": "6c085d48",
   "metadata": {},
   "source": [
    "### Lista de Exercícios Básicos de Manipulação de Arquivos CSV\n",
    "\n",
    "Aqui está uma lista de exercícios progressivos para praticar manipulação de arquivos CSV em Python."
   ]
  },
  {
   "cell_type": "markdown",
   "id": "7e788390",
   "metadata": {},
   "source": [
    "Exercício 1: Criando um arquivo CSV simples\n",
    "\n",
    "Crie um arquivo chamado alunos.csv com os seguintes dados:\n",
    "\n",
    "Nome,Idade,Nota\n",
    "\n",
    "\n",
    "Ana,17,8.5\n",
    "\n",
    "\n",
    "João,16,7.0\n",
    "\n",
    "\n",
    "Maria,18,9.0"
   ]
  },
  {
   "cell_type": "code",
   "execution_count": 2,
   "id": "d74802d2",
   "metadata": {},
   "outputs": [],
   "source": [
    "import csv\n",
    "with open ('alunos.csv', 'w', newline='', encoding='utf-8') as f:\n",
    "    f.write(\"nome, idade, nota\\n\")\n",
    "    f.write(\"Maria,17,6.5\\n\")\n",
    "    f.write(\"João,16,7.0\\n\")\n",
    "    f.write(\"Matheus,18,9.0\")"
   ]
  },
  {
   "cell_type": "markdown",
   "id": "1801190f",
   "metadata": {},
   "source": [
    "Exercício 2: Lendo um arquivo CSV\n",
    "\n",
    "Leia o arquivo alunos.csv e mostre todos os dados na tela."
   ]
  },
  {
   "cell_type": "code",
   "execution_count": 23,
   "id": "d9f2b6da",
   "metadata": {},
   "outputs": [
    {
     "name": "stdout",
     "output_type": "stream",
     "text": [
      " idade\n",
      "17\n",
      "16\n",
      "18\n",
      "18\n"
     ]
    }
   ],
   "source": [
    "with open('alunos.csv', 'r', encoding='utf-8') as arquivo:\n",
    "    conteudo = csv.reader(arquivo)\n",
    "    for linha in  conteudo:\n",
    "        print(linha[1])\n",
    "print(linha[1])"
   ]
  },
  {
   "cell_type": "markdown",
   "id": "1c230648",
   "metadata": {},
   "source": [
    "Exercício 3: Adicionando um novo aluno\n",
    "\n",
    "Peça ao usuário para digitar os dados de um novo aluno e adicione-o ao arquivo CSV."
   ]
  },
  {
   "cell_type": "code",
   "execution_count": 4,
   "id": "41891bb5",
   "metadata": {},
   "outputs": [
    {
     "name": "stdout",
     "output_type": "stream",
     "text": [
      "<_csv.writer object at 0x0000017CC0396800>\n"
     ]
    }
   ],
   "source": [
    "nome = input('Nome do Aluno: ')\n",
    "idade = input('Idade do Aluno: ')\n",
    "nota = input('Nota do Aluno: ')\n",
    "\n",
    "with open('alunos.csv', 'a', newline='', encoding='utf-8') as arquivo:\n",
    "    escritor = csv.writer(arquivo)\n",
    "    escritor.writerow([nome,idade,nota])\n",
    "    print(escritor)"
   ]
  },
  {
   "cell_type": "markdown",
   "id": "90ceb918",
   "metadata": {},
   "source": [
    "Exercício 4: Calculando a média das notas\n",
    "\n",
    "Calcule e mostre a média das notas de todos os alunos."
   ]
  },
  {
   "cell_type": "code",
   "execution_count": null,
   "id": "121ec765",
   "metadata": {},
   "outputs": [
    {
     "name": "stdout",
     "output_type": "stream",
     "text": [
      "6.5\n",
      "7.0\n",
      "9.0\n",
      "A sua média foi 7.5\n"
     ]
    }
   ],
   "source": [
    "notas = []\n",
    "\n",
    "\n",
    "with open('alunos.csv', 'r', encoding='utf-8') as arquivo:\n",
    "    next(arquivo)\n",
    "    for linha in arquivo:\n",
    "        \n",
    "        partes = linha.strip().split(',')\n",
    "        print(partes[2])\n",
    "        nota =float(partes[2])\n",
    "        notas.append(nota)\n",
    "\n",
    "media = sum(notas)/3\n",
    "print(f\"A sua média foi {media}\")"
   ]
  },
  {
   "cell_type": "markdown",
   "id": "cb646ca2",
   "metadata": {},
   "source": [
    "Exercício 5: Filtrando alunos\n",
    "\n",
    "Mostre apenas os alunos com nota maior ou igual a 8.0."
   ]
  },
  {
   "cell_type": "code",
   "execution_count": 6,
   "id": "7b9a839d",
   "metadata": {},
   "outputs": [
    {
     "name": "stdout",
     "output_type": "stream",
     "text": [
      "Nao tem aluno com a nota maior que 8\n",
      "6.5\n",
      "Nao tem aluno com a nota maior que 8\n",
      "7.0\n",
      "sua nota esta acima da média\n"
     ]
    }
   ],
   "source": [
    "\n",
    "for nota in notas:\n",
    "    if nota >= 8:\n",
    "        print(\"sua nota esta acima da média\")\n",
    "    else:\n",
    "        print(\"Nao tem aluno com a nota maior que 8\")\n",
    "        print(nota)\n"
   ]
  },
  {
   "cell_type": "markdown",
   "id": "56736dca",
   "metadata": {},
   "source": [
    "Exercício 6: Criando um dicionário de alunos\n",
    "\n",
    "Leia o arquivo CSV usando csv.DictReader e mostre os dados como dicionários."
   ]
  },
  {
   "cell_type": "code",
   "execution_count": 7,
   "id": "06fdea7c",
   "metadata": {},
   "outputs": [
    {
     "name": "stdout",
     "output_type": "stream",
     "text": [
      "[6.5, 7.0, 9.0]\n"
     ]
    }
   ],
   "source": [
    "with open('alunos.csv', 'r', encoding='utf-8') as arquivo:\n",
    "    csv.DictReader(notas)\n",
    "    print(notas)"
   ]
  },
  {
   "cell_type": "markdown",
   "id": "3c05675b",
   "metadata": {},
   "source": [
    "Exercício 7: Atualizando notas\n",
    "\n",
    "Aumente em 1.0 a nota de todos os alunos e salve no arquivo alunos_atualizados.csv."
   ]
  },
  {
   "cell_type": "code",
   "execution_count": 8,
   "id": "4bd26755",
   "metadata": {},
   "outputs": [
    {
     "name": "stdout",
     "output_type": "stream",
     "text": [
      "[6.5, 7.0, 9.0]\n",
      "[7.5, 8.0, 10.0]\n"
     ]
    }
   ],
   "source": [
    "print(notas)\n",
    "notas_atualizadas = []\n",
    "for nota in notas:\n",
    "    nota_atualizada = nota + 1.0\n",
    "    notas_atualizadas.append(nota_atualizada)\n",
    "\n",
    "print(notas_atualizadas)"
   ]
  },
  {
   "cell_type": "code",
   "execution_count": 28,
   "id": "d0e8326e",
   "metadata": {},
   "outputs": [
    {
     "name": "stdout",
     "output_type": "stream",
     "text": [
      "7.5\n"
     ]
    }
   ],
   "source": [
    "dados = [\n",
    "    [\"nome\", \"idade\", \"nota\"],\n",
    "    [\"Maria\", 30, notas_atualizadas[0]],\n",
    "    [\"João\", 25, notas_atualizadas[1]],\n",
    "    [\"matheus\", 25, notas_atualizadas[2]]\n",
    "]\n",
    "\n",
    "with open ('alunos_atualizados.csv', 'w', newline='', encoding='utf-8') as f:\n",
    "    escritor = csv.writer(f)\n",
    "    \n",
    "    # Escreve todas as linhas da lista 'dados' de uma vez, .writerows é um método do objeto escritor (writer)\n",
    "    escritor.writerows(dados)\n",
    "    \n",
    "print(notas_atualizadas[0])"
   ]
  },
  {
   "cell_type": "markdown",
   "id": "2987ecdb",
   "metadata": {},
   "source": [
    "Exercício 8: Contando alunos por idade\n",
    "\n",
    "Conte quantos alunos existem em cada idade e mostre o resultado."
   ]
  },
  {
   "cell_type": "code",
   "execution_count": null,
   "id": "35053a80",
   "metadata": {},
   "outputs": [
    {
     "name": "stdout",
     "output_type": "stream",
     "text": [
      "17\n",
      "16\n",
      "18\n",
      "Idade 16: 1 alunos\n",
      "Idade 17: 1 alunos\n",
      "Idade 18: 1 alunos\n"
     ]
    }
   ],
   "source": [
    "aluno_idade = {}\n",
    "\n",
    "with open('alunos.csv', 'r', encoding='utf-8') as arquivo:\n",
    "    next(arquivo)\n",
    "    for linha in arquivo:\n",
    "        \n",
    "        partes = linha.strip().split(',')\n",
    "        print(partes[1])\n",
    "        idade =int(partes[1])\n",
    "        if idade in aluno_idade:\n",
    "            aluno_idade[idade] += 1\n",
    "        else:\n",
    "            aluno_idade[idade] = 1\n",
    "for idade, quantidade in sorted(aluno_idade.items()):\n",
    "    print(f\"Idade {idade}: {quantidade} alunos\")\n",
    "        "
   ]
  },
  {
   "cell_type": "markdown",
   "id": "7b168846",
   "metadata": {},
   "source": [
    "Exercício 9: Juntando arquivos CSV\n",
    "\n",
    "Crie um novo arquivo turma_completa.csv que combine os dados de alunos.csv e alunos_atualizados.csv (use a nota do arquivo atualizado)."
   ]
  },
  {
   "cell_type": "code",
   "execution_count": 41,
   "id": "c1567dc8",
   "metadata": {},
   "outputs": [
    {
     "name": "stdout",
     "output_type": "stream",
     "text": [
      "O conteúdo foi copiado com sucesso para 'turma_completa.csv'.\n"
     ]
    }
   ],
   "source": [
    "with open(\"alunos_atualizados.csv\", \"r\", newline= '', encoding= 'utf-8') as original:\n",
    "        conteudo = original.readlines()\n",
    "    \n",
    "\n",
    "\n",
    "with open(\"alunos.csv\", \"r\", newline= '', encoding= 'utf-8') as copia:\n",
    "        conteudo2 = copia.readlines()\n",
    "\n",
    "\n",
    "with open(\"turma_completa.csv\", \"w\", newline= '', encoding= 'utf-8') as f:\n",
    "        f.writelines(conteudo)\n",
    "        f.writelines(conteudo2)\n",
    "\n",
    "\n",
    "print(\"O conteúdo foi copiado com sucesso para 'turma_completa.csv'.\")"
   ]
  },
  {
   "cell_type": "markdown",
   "id": "4fba760c",
   "metadata": {},
   "source": [
    "### Desafio Final ! 🚨🚨🚨🚨🚨🚨\n",
    "\n",
    "Esse é só para as lendas 😎😎😎\n",
    "\n",
    "Exercício 10: Gerando relatório de desempenho\n",
    "\n",
    "Crie um programa que gera um novo arquivo relatorio.csv com informações agregadas:\n",
    "\n",
    "- Nome do aluno\n",
    "\n",
    "\n",
    "- Nota original\n",
    "\n",
    "\n",
    "- Situação (\"Aprovado\" se nota >= 7.0, \"Recuperação\" se == 5.0, \"Reprovado\" caso contrário)\n",
    "\n"
   ]
  },
  {
   "cell_type": "code",
   "execution_count": null,
   "id": "67bc0a14",
   "metadata": {},
   "outputs": [],
   "source": [
    "with open(\"realatorio.csv\", \"r\", newline= '', encoding= 'utf-8') as original:\n",
    "    nome"
   ]
  },
  {
   "cell_type": "code",
   "execution_count": null,
   "id": "3e35d419",
   "metadata": {},
   "outputs": [],
   "source": [
    "lista_alunos = []\n",
    "\n",
    "with open(\"turma_completa.csv\", \"r\", newline= '', encoding= 'utf-8') as f:\n",
    "  # O reader cria um objeto iterável que transforma cada linha do CSV em uma lista.\n",
    "    leitor = csv.reader(f)\n",
    "    next(f)\n",
    "    for linha in leitor:\n",
    "        nome_aluno = linha[0]\n",
    "        nota =float(linha[2])\n",
    "        print(nome_aluno)\n",
    "        lista_alunos.append(nome_aluno)\n",
    "        print(nota)\n",
    "        lista_alunos.append(nota)\n",
    "        if nota >=7:\n",
    "            situacao = \"Aprovado\"\n",
    "        elif nota == 5:\n",
    "            situacao = \"Recuperação\"\n",
    "        else:\n",
    "            situacao = \"Reprovado\"\n",
    "        lista_alunos.append(situacao)\n",
    "        print(situacao)\n"
   ]
  },
  {
   "cell_type": "code",
   "execution_count": 63,
   "id": "f5679a92",
   "metadata": {},
   "outputs": [
    {
     "name": "stdout",
     "output_type": "stream",
     "text": [
      "[['Nome', 'Nota', 'Situação'], ['Maria', 7.5, 'Aprovado']]\n"
     ]
    }
   ],
   "source": [
    "dados = [ [\"Nome\", \"Nota\", \"Situação\"],\n",
    "          [lista_alunos[0], lista_alunos[1], lista_alunos[2]]\n",
    "         \n",
    "         \n",
    "         \n",
    "         ]\n",
    "\n",
    "print(dados)"
   ]
  }
 ],
 "metadata": {
  "kernelspec": {
   "display_name": "Python 3",
   "language": "python",
   "name": "python3"
  },
  "language_info": {
   "codemirror_mode": {
    "name": "ipython",
    "version": 3
   },
   "file_extension": ".py",
   "mimetype": "text/x-python",
   "name": "python",
   "nbconvert_exporter": "python",
   "pygments_lexer": "ipython3",
   "version": "3.13.2"
  }
 },
 "nbformat": 4,
 "nbformat_minor": 5
}
