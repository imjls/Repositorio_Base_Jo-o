{
 "cells": [
  {
   "cell_type": "markdown",
   "id": "ec2b2ae4",
   "metadata": {},
   "source": [
    "### Exercício 1: Criando e escrevendo em um arquivo\n",
    "\n",
    "Crie um arquivo chamado meu_arquivo.txt e escreva nele a seguinte frase: \"Estou criando esse arquivo de texto em Python!\""
   ]
  },
  {
   "cell_type": "code",
   "execution_count": 1,
   "id": "cffe2a6d",
   "metadata": {},
   "outputs": [],
   "source": [
    "with open ('meu_arquivo.txt', 'w') as f:\n",
    "    f.write(\"Estou criando esse arquivo de texto em Python\")\n"
   ]
  },
  {
   "cell_type": "markdown",
   "id": "4b3f7a89",
   "metadata": {},
   "source": [
    "### Exercício 2: Lendo o conteúdo do arquivo\n",
    "\n",
    "\n",
    "Agora leia o conteúdo do arquivo meu_arquivo.txt que você criou no exercício anterior e mostre-o na tela."
   ]
  },
  {
   "cell_type": "code",
   "execution_count": 2,
   "id": "e5edc612",
   "metadata": {},
   "outputs": [
    {
     "name": "stdout",
     "output_type": "stream",
     "text": [
      "['Estou criando esse arquivo de texto em Python']\n"
     ]
    }
   ],
   "source": [
    "with open('meu_arquivo.txt', 'r') as f:\n",
    "    conteudo = f.readlines()\n",
    "\n",
    "    print(conteudo)"
   ]
  },
  {
   "cell_type": "markdown",
   "id": "8184fdba",
   "metadata": {},
   "source": [
    "### Exercício 3: Adicionando mais texto\n",
    "\n",
    "Adicione a seguinte frase em uma nova linha do mesmo arquivo: \"Agora estou aprendendo a manipular arquivos!\""
   ]
  },
  {
   "cell_type": "code",
   "execution_count": 3,
   "id": "723d1e8d",
   "metadata": {},
   "outputs": [
    {
     "name": "stdout",
     "output_type": "stream",
     "text": [
      "['Estou criando esse arquivo de texto em Python']\n"
     ]
    }
   ],
   "source": [
    "with open('meu_arquivo.txt','a') as f:\n",
    "    f.write('\\nAgora estou aprendendo a manipular arquivos!\\n')\n",
    "    print(conteudo)"
   ]
  },
  {
   "cell_type": "markdown",
   "id": "82c4eb19",
   "metadata": {},
   "source": [
    "### Exercício 4: Contando linhas\n",
    "\n",
    "Crie um programa que conta quantas linhas tem o arquivo meu_arquivo.txt e mostra o resultado."
   ]
  },
  {
   "cell_type": "code",
   "execution_count": 4,
   "id": "fd757b5e",
   "metadata": {},
   "outputs": [
    {
     "name": "stdout",
     "output_type": "stream",
     "text": [
      "2\n"
     ]
    }
   ],
   "source": [
    "with open('meu_arquivo.txt', 'r') as f:\n",
    "    conteudo = f.readlines()\n",
    "\n",
    "    \n",
    "\n",
    "print(len(conteudo))\n",
    "    "
   ]
  },
  {
   "cell_type": "markdown",
   "id": "6bc0b78f",
   "metadata": {},
   "source": [
    "### Exercício 5: Lista de compras\n",
    "\n",
    "Crie um arquivo chamado compras.txt e escreva nele, cada um em uma linha, os seguintes itens: \"Maçã\", \"Banana\", \"Leite\", \"Pão\"."
   ]
  },
  {
   "cell_type": "code",
   "execution_count": 5,
   "id": "97bb5660",
   "metadata": {},
   "outputs": [],
   "source": [
    "with open ('compras.txt', 'w') as f:\n",
    "    f.write(\"\\nMaçã\\n\")\n",
    "    f.write(\"Banana\")\n",
    "    f.write(\"\\nLeite\\n\")\n",
    "    f.write(\"Pão\")"
   ]
  },
  {
   "cell_type": "markdown",
   "id": "71cf0898",
   "metadata": {},
   "source": [
    "### Exercício 6: Lendo linhas específicas\n",
    "\n",
    "\n",
    "Leia o arquivo compras.txt e mostre apenas o segundo item da lista (Banana)."
   ]
  },
  {
   "cell_type": "code",
   "execution_count": 6,
   "id": "6d705e94",
   "metadata": {},
   "outputs": [
    {
     "name": "stdout",
     "output_type": "stream",
     "text": [
      "\n",
      "Maçã\n",
      "Banana\n",
      "Leite\n",
      "Pão\n",
      "22\n"
     ]
    }
   ],
   "source": [
    "with open('compras.txt', 'r') as f:\n",
    "    conteudo = f.read()\n",
    "print(conteudo)\n",
    "print(len(conteudo))\n",
    "    "
   ]
  },
  {
   "cell_type": "markdown",
   "id": "bc372146",
   "metadata": {},
   "source": [
    "### Exercício 7: Adicionando itens\n",
    "\n",
    "Peça ao usuário para digitar um novo item e adicione-o ao final da lista no arquivo compras.txt."
   ]
  },
  {
   "cell_type": "code",
   "execution_count": 7,
   "id": "a6e7617c",
   "metadata": {},
   "outputs": [
    {
     "name": "stdout",
     "output_type": "stream",
     "text": [
      "O item '' foi adicionado à lista de compras.\n"
     ]
    }
   ],
   "source": [
    "item = input(\"Digite um novo item para a lista de compras:\")\n",
    "with open(\"compras.txt\", \"a\", encoding=\"utf-8\") as arquivo:\n",
    "    arquivo.write(item + \"\\n\")\n",
    "    print(f\"O item '{item}' foi adicionado à lista de compras.\")\n"
   ]
  },
  {
   "cell_type": "markdown",
   "id": "b434b909",
   "metadata": {},
   "source": [
    "### Exercício 8: Copiando arquivos\n",
    "\n",
    "Crie um programa que copia todo o conteúdo de meu_arquivo.txt para um novo arquivo chamado copia.txt."
   ]
  },
  {
   "cell_type": "code",
   "execution_count": 8,
   "id": "3aab9832",
   "metadata": {},
   "outputs": [
    {
     "name": "stdout",
     "output_type": "stream",
     "text": [
      "O conteúdo foi copiado com sucesso para 'copia.txt'.\n"
     ]
    }
   ],
   "source": [
    "with open(\"meu_arquivo.txt\", \"r\") as original:\n",
    "    conteudo = original.read()\n",
    "\n",
    "\n",
    "with open(\"copia.txt\", \"w\") as copia:\n",
    "    copia.write(conteudo)\n",
    "\n",
    "print(\"O conteúdo foi copiado com sucesso para 'copia.txt'.\")"
   ]
  },
  {
   "cell_type": "markdown",
   "id": "b24e8386",
   "metadata": {},
   "source": [
    "### Exercício 9: Contando palavras\n",
    "\n",
    "Crie um programa que conta quantas palavras tem no arquivo meu_arquivo.txt (considere que as palavras são separadas por espaços)."
   ]
  },
  {
   "cell_type": "code",
   "execution_count": 9,
   "id": "896d7462",
   "metadata": {},
   "outputs": [
    {
     "name": "stdout",
     "output_type": "stream",
     "text": [
      "O arquivo contém 14 palavra(s).\n"
     ]
    }
   ],
   "source": [
    "with open(\"meu_arquivo.txt\", \"r\") as arquivo:\n",
    "    linhas = arquivo.readlines()\n",
    "    total_palavras = 0\n",
    "\n",
    "\n",
    "for linha in linhas:\n",
    "    palavras = linha.split() \n",
    "    total_palavras += len(palavras)\n",
    "\n",
    "print(f\"O arquivo contém {total_palavras} palavra(s).\")"
   ]
  },
  {
   "cell_type": "markdown",
   "id": "3bbe37c9",
   "metadata": {},
   "source": [
    "### Exercício 10: Juntando arquivos\n",
    "\n",
    "\n",
    "Crie um programa que lê o conteúdo de meu_arquivo.txt e compras.txt e cria um novo arquivo chamado juntado.txt com o conteúdo dos dois arquivos, um após o outro."
   ]
  },
  {
   "cell_type": "code",
   "execution_count": 12,
   "id": "c932924e",
   "metadata": {},
   "outputs": [],
   "source": [
    "with open(\"meu_arquivo.txt\", \"r\") as arquivo:\n",
    "    conteudo = arquivo.readlines()\n",
    "with open(\"compras.txt\", \"r\") as sengundo_arquivo:\n",
    "    segundo_conteudo = sengundo_arquivo.readlines()\n",
    "with open ('juntando.txt', 'w') as f:\n",
    "    f.writelines(conteudo)\n",
    "    f.writelines(segundo_conteudo)"
   ]
  }
 ],
 "metadata": {
  "kernelspec": {
   "display_name": "Python 3",
   "language": "python",
   "name": "python3"
  },
  "language_info": {
   "codemirror_mode": {
    "name": "ipython",
    "version": 3
   },
   "file_extension": ".py",
   "mimetype": "text/x-python",
   "name": "python",
   "nbconvert_exporter": "python",
   "pygments_lexer": "ipython3",
   "version": "3.13.2"
  }
 },
 "nbformat": 4,
 "nbformat_minor": 5
}
